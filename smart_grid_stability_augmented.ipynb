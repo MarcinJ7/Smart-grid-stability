{
 "cells": [
  {
   "cell_type": "code",
   "execution_count": 2,
   "id": "706af5a8",
   "metadata": {},
   "outputs": [],
   "source": [
    "import pandas as pd\n",
    "import matplotlib.pyplot as plt"
   ]
  },
  {
   "cell_type": "code",
   "execution_count": 3,
   "id": "07af9d37",
   "metadata": {},
   "outputs": [],
   "source": [
    "# Wczytanie danych - plik csv\n",
    "df = pd.read_csv('smart_grid_stability_augmented.csv')\n",
    "# Dane pobrane z: https://www.kaggle.com/datasets/pcbreviglieri/smart-grid-stability"
   ]
  },
  {
   "cell_type": "code",
   "execution_count": 4,
   "id": "76e1526a",
   "metadata": {},
   "outputs": [
    {
     "data": {
      "text/html": [
       "<div>\n",
       "<style scoped>\n",
       "    .dataframe tbody tr th:only-of-type {\n",
       "        vertical-align: middle;\n",
       "    }\n",
       "\n",
       "    .dataframe tbody tr th {\n",
       "        vertical-align: top;\n",
       "    }\n",
       "\n",
       "    .dataframe thead th {\n",
       "        text-align: right;\n",
       "    }\n",
       "</style>\n",
       "<table border=\"1\" class=\"dataframe\">\n",
       "  <thead>\n",
       "    <tr style=\"text-align: right;\">\n",
       "      <th></th>\n",
       "      <th>tau1</th>\n",
       "      <th>tau2</th>\n",
       "      <th>tau3</th>\n",
       "      <th>tau4</th>\n",
       "      <th>p1</th>\n",
       "      <th>p2</th>\n",
       "      <th>p3</th>\n",
       "      <th>p4</th>\n",
       "      <th>g1</th>\n",
       "      <th>g2</th>\n",
       "      <th>g3</th>\n",
       "      <th>g4</th>\n",
       "      <th>stab</th>\n",
       "      <th>stabf</th>\n",
       "    </tr>\n",
       "  </thead>\n",
       "  <tbody>\n",
       "    <tr>\n",
       "      <th>0</th>\n",
       "      <td>2.959060</td>\n",
       "      <td>3.079885</td>\n",
       "      <td>8.381025</td>\n",
       "      <td>9.780754</td>\n",
       "      <td>3.763085</td>\n",
       "      <td>-0.782604</td>\n",
       "      <td>-1.257395</td>\n",
       "      <td>-1.723086</td>\n",
       "      <td>0.650456</td>\n",
       "      <td>0.859578</td>\n",
       "      <td>0.887445</td>\n",
       "      <td>0.958034</td>\n",
       "      <td>0.055347</td>\n",
       "      <td>unstable</td>\n",
       "    </tr>\n",
       "    <tr>\n",
       "      <th>1</th>\n",
       "      <td>9.304097</td>\n",
       "      <td>4.902524</td>\n",
       "      <td>3.047541</td>\n",
       "      <td>1.369357</td>\n",
       "      <td>5.067812</td>\n",
       "      <td>-1.940058</td>\n",
       "      <td>-1.872742</td>\n",
       "      <td>-1.255012</td>\n",
       "      <td>0.413441</td>\n",
       "      <td>0.862414</td>\n",
       "      <td>0.562139</td>\n",
       "      <td>0.781760</td>\n",
       "      <td>-0.005957</td>\n",
       "      <td>stable</td>\n",
       "    </tr>\n",
       "    <tr>\n",
       "      <th>2</th>\n",
       "      <td>8.971707</td>\n",
       "      <td>8.848428</td>\n",
       "      <td>3.046479</td>\n",
       "      <td>1.214518</td>\n",
       "      <td>3.405158</td>\n",
       "      <td>-1.207456</td>\n",
       "      <td>-1.277210</td>\n",
       "      <td>-0.920492</td>\n",
       "      <td>0.163041</td>\n",
       "      <td>0.766689</td>\n",
       "      <td>0.839444</td>\n",
       "      <td>0.109853</td>\n",
       "      <td>0.003471</td>\n",
       "      <td>unstable</td>\n",
       "    </tr>\n",
       "    <tr>\n",
       "      <th>3</th>\n",
       "      <td>0.716415</td>\n",
       "      <td>7.669600</td>\n",
       "      <td>4.486641</td>\n",
       "      <td>2.340563</td>\n",
       "      <td>3.963791</td>\n",
       "      <td>-1.027473</td>\n",
       "      <td>-1.938944</td>\n",
       "      <td>-0.997374</td>\n",
       "      <td>0.446209</td>\n",
       "      <td>0.976744</td>\n",
       "      <td>0.929381</td>\n",
       "      <td>0.362718</td>\n",
       "      <td>0.028871</td>\n",
       "      <td>unstable</td>\n",
       "    </tr>\n",
       "    <tr>\n",
       "      <th>4</th>\n",
       "      <td>3.134112</td>\n",
       "      <td>7.608772</td>\n",
       "      <td>4.943759</td>\n",
       "      <td>9.857573</td>\n",
       "      <td>3.525811</td>\n",
       "      <td>-1.125531</td>\n",
       "      <td>-1.845975</td>\n",
       "      <td>-0.554305</td>\n",
       "      <td>0.797110</td>\n",
       "      <td>0.455450</td>\n",
       "      <td>0.656947</td>\n",
       "      <td>0.820923</td>\n",
       "      <td>0.049860</td>\n",
       "      <td>unstable</td>\n",
       "    </tr>\n",
       "  </tbody>\n",
       "</table>\n",
       "</div>"
      ],
      "text/plain": [
       "       tau1      tau2      tau3      tau4        p1        p2        p3  \\\n",
       "0  2.959060  3.079885  8.381025  9.780754  3.763085 -0.782604 -1.257395   \n",
       "1  9.304097  4.902524  3.047541  1.369357  5.067812 -1.940058 -1.872742   \n",
       "2  8.971707  8.848428  3.046479  1.214518  3.405158 -1.207456 -1.277210   \n",
       "3  0.716415  7.669600  4.486641  2.340563  3.963791 -1.027473 -1.938944   \n",
       "4  3.134112  7.608772  4.943759  9.857573  3.525811 -1.125531 -1.845975   \n",
       "\n",
       "         p4        g1        g2        g3        g4      stab     stabf  \n",
       "0 -1.723086  0.650456  0.859578  0.887445  0.958034  0.055347  unstable  \n",
       "1 -1.255012  0.413441  0.862414  0.562139  0.781760 -0.005957    stable  \n",
       "2 -0.920492  0.163041  0.766689  0.839444  0.109853  0.003471  unstable  \n",
       "3 -0.997374  0.446209  0.976744  0.929381  0.362718  0.028871  unstable  \n",
       "4 -0.554305  0.797110  0.455450  0.656947  0.820923  0.049860  unstable  "
      ]
     },
     "execution_count": 4,
     "metadata": {},
     "output_type": "execute_result"
    }
   ],
   "source": [
    "# Rzut okiem na dane\n",
    "df.head()"
   ]
  },
  {
   "cell_type": "code",
   "execution_count": 5,
   "id": "82e0a4bd",
   "metadata": {},
   "outputs": [
    {
     "name": "stdout",
     "output_type": "stream",
     "text": [
      "<class 'pandas.core.frame.DataFrame'>\n",
      "RangeIndex: 60000 entries, 0 to 59999\n",
      "Data columns (total 14 columns):\n",
      " #   Column  Non-Null Count  Dtype  \n",
      "---  ------  --------------  -----  \n",
      " 0   tau1    60000 non-null  float64\n",
      " 1   tau2    60000 non-null  float64\n",
      " 2   tau3    60000 non-null  float64\n",
      " 3   tau4    60000 non-null  float64\n",
      " 4   p1      60000 non-null  float64\n",
      " 5   p2      60000 non-null  float64\n",
      " 6   p3      60000 non-null  float64\n",
      " 7   p4      60000 non-null  float64\n",
      " 8   g1      60000 non-null  float64\n",
      " 9   g2      60000 non-null  float64\n",
      " 10  g3      60000 non-null  float64\n",
      " 11  g4      60000 non-null  float64\n",
      " 12  stab    60000 non-null  float64\n",
      " 13  stabf   60000 non-null  object \n",
      "dtypes: float64(13), object(1)\n",
      "memory usage: 6.4+ MB\n"
     ]
    }
   ],
   "source": [
    "df.info()"
   ]
  },
  {
   "cell_type": "code",
   "execution_count": 6,
   "id": "992cb145",
   "metadata": {},
   "outputs": [],
   "source": [
    "# Mamy 14 kolumn - typ liczowy oraz object. Ramka nie posiada wartości odstających."
   ]
  },
  {
   "cell_type": "code",
   "execution_count": 7,
   "id": "73d85e99",
   "metadata": {},
   "outputs": [],
   "source": [
    "# Przewidujemy wartości z kolumny stabf - są typu object"
   ]
  },
  {
   "cell_type": "code",
   "execution_count": 8,
   "id": "0603a1ad",
   "metadata": {},
   "outputs": [
    {
     "data": {
      "text/plain": [
       "array(['unstable', 'stable'], dtype=object)"
      ]
     },
     "execution_count": 8,
     "metadata": {},
     "output_type": "execute_result"
    }
   ],
   "source": [
    "df['stabf'].unique()"
   ]
  },
  {
   "cell_type": "code",
   "execution_count": 9,
   "id": "b2744c33",
   "metadata": {},
   "outputs": [],
   "source": [
    "# Zamieniamy 0 - unstable, 1 - stable"
   ]
  },
  {
   "cell_type": "code",
   "execution_count": 10,
   "id": "612a1f8d",
   "metadata": {},
   "outputs": [],
   "source": [
    "df['stabf'] = df['stabf'].apply(lambda m: 0 if m=='unstable' else 1)"
   ]
  },
  {
   "cell_type": "code",
   "execution_count": 11,
   "id": "48571859",
   "metadata": {},
   "outputs": [
    {
     "data": {
      "text/plain": [
       "array([0, 1], dtype=int64)"
      ]
     },
     "execution_count": 11,
     "metadata": {},
     "output_type": "execute_result"
    }
   ],
   "source": [
    "df['stabf'].unique()"
   ]
  },
  {
   "cell_type": "code",
   "execution_count": 12,
   "id": "ee81d8a3",
   "metadata": {},
   "outputs": [
    {
     "name": "stdout",
     "output_type": "stream",
     "text": [
      "<class 'pandas.core.frame.DataFrame'>\n",
      "RangeIndex: 60000 entries, 0 to 59999\n",
      "Data columns (total 14 columns):\n",
      " #   Column  Non-Null Count  Dtype  \n",
      "---  ------  --------------  -----  \n",
      " 0   tau1    60000 non-null  float64\n",
      " 1   tau2    60000 non-null  float64\n",
      " 2   tau3    60000 non-null  float64\n",
      " 3   tau4    60000 non-null  float64\n",
      " 4   p1      60000 non-null  float64\n",
      " 5   p2      60000 non-null  float64\n",
      " 6   p3      60000 non-null  float64\n",
      " 7   p4      60000 non-null  float64\n",
      " 8   g1      60000 non-null  float64\n",
      " 9   g2      60000 non-null  float64\n",
      " 10  g3      60000 non-null  float64\n",
      " 11  g4      60000 non-null  float64\n",
      " 12  stab    60000 non-null  float64\n",
      " 13  stabf   60000 non-null  int64  \n",
      "dtypes: float64(13), int64(1)\n",
      "memory usage: 6.4 MB\n"
     ]
    }
   ],
   "source": [
    "df.info()"
   ]
  },
  {
   "cell_type": "code",
   "execution_count": 14,
   "id": "3a8877d9",
   "metadata": {},
   "outputs": [],
   "source": [
    "# Sprawdźmy bilnas klas. Zmienna przewidywana to stabf, które zgodnie z opisem:\n",
    "# System's stability label (categorical: stable / unstable), 0 - unstable, 1 - stable"
   ]
  },
  {
   "cell_type": "code",
   "execution_count": 15,
   "id": "d25d15d6",
   "metadata": {},
   "outputs": [
    {
     "data": {
      "text/plain": [
       "0    38280\n",
       "1    21720\n",
       "Name: stabf, dtype: int64"
      ]
     },
     "execution_count": 15,
     "metadata": {},
     "output_type": "execute_result"
    }
   ],
   "source": [
    "df['stabf'].value_counts()"
   ]
  },
  {
   "cell_type": "code",
   "execution_count": 16,
   "id": "013e45e4",
   "metadata": {},
   "outputs": [],
   "source": [
    "# Klasy są nieco niezbilansowane (duzo więcej danych dla klasy 0)"
   ]
  },
  {
   "cell_type": "code",
   "execution_count": 17,
   "id": "92330565",
   "metadata": {},
   "outputs": [],
   "source": [
    "# Dzielimy dane na uczące i testowe (0.75 - 0.25)"
   ]
  },
  {
   "cell_type": "code",
   "execution_count": 18,
   "id": "2bbef173",
   "metadata": {},
   "outputs": [],
   "source": [
    "X = df.drop(columns= ['stabf'])"
   ]
  },
  {
   "cell_type": "code",
   "execution_count": 19,
   "id": "0a592315",
   "metadata": {},
   "outputs": [],
   "source": [
    "Y = df['stabf']"
   ]
  },
  {
   "cell_type": "code",
   "execution_count": 20,
   "id": "d3ffc3b0",
   "metadata": {},
   "outputs": [],
   "source": [
    "# Import skaleera oraz funkcji dzielącej dane\n",
    "from sklearn.model_selection import train_test_split\n",
    "from sklearn.preprocessing import MinMaxScaler"
   ]
  },
  {
   "cell_type": "code",
   "execution_count": 21,
   "id": "a0624623",
   "metadata": {},
   "outputs": [],
   "source": [
    "x_train, x_test, y_train, y_test = train_test_split(X, Y, test_size = 0.25, random_state=1) "
   ]
  },
  {
   "cell_type": "code",
   "execution_count": 22,
   "id": "ab67c47c",
   "metadata": {},
   "outputs": [],
   "source": [
    "# Skalowanie danych"
   ]
  },
  {
   "cell_type": "code",
   "execution_count": 23,
   "id": "2446515d",
   "metadata": {},
   "outputs": [],
   "source": [
    "minMax = MinMaxScaler()\n",
    "x_train_scaled = minMax.fit_transform(x_train)\n",
    "x_test_scaled = minMax.transform(x_test)"
   ]
  },
  {
   "cell_type": "code",
   "execution_count": 24,
   "id": "809ccc1c",
   "metadata": {},
   "outputs": [],
   "source": [
    "# Sieć neuronowa"
   ]
  },
  {
   "cell_type": "code",
   "execution_count": 27,
   "id": "a902edaf",
   "metadata": {},
   "outputs": [],
   "source": [
    "import tensorflow as tf\n",
    "# Warstwa wejściowa\n",
    "model = tf.keras.models.Sequential()\n",
    "model.add(tf.keras.layers.Dense(20, activation='relu', input_shape=(x_train_scaled.shape[1], )))\n",
    "# Dwie ukryte warstwy\n",
    "model.add(tf.keras.layers.Dense(15, activation='relu'))\n",
    "model.add(tf.keras.layers.Dense(10, activation='relu'))\n",
    "# Wyjście\n",
    "model.add(tf.keras.layers.Dense(1, activation='sigmoid'))\n",
    "\n",
    "model.compile(loss='binary_crossentropy', optimizer='adam', metrics=['accuracy'])"
   ]
  },
  {
   "cell_type": "code",
   "execution_count": 28,
   "id": "45d6ad59",
   "metadata": {},
   "outputs": [
    {
     "name": "stdout",
     "output_type": "stream",
     "text": [
      "Epoch 1/15\n",
      "WARNING:tensorflow:AutoGraph could not transform <function Model.make_train_function.<locals>.train_function at 0x000001D811387558> and will run it as-is.\n",
      "Please report this to the TensorFlow team. When filing the bug, set the verbosity to 10 (on Linux, `export AUTOGRAPH_VERBOSITY=10`) and attach the full output.\n",
      "Cause: 'arguments' object has no attribute 'posonlyargs'\n",
      "To silence this warning, decorate the function with @tf.autograph.experimental.do_not_convert\n",
      "WARNING: AutoGraph could not transform <function Model.make_train_function.<locals>.train_function at 0x000001D811387558> and will run it as-is.\n",
      "Please report this to the TensorFlow team. When filing the bug, set the verbosity to 10 (on Linux, `export AUTOGRAPH_VERBOSITY=10`) and attach the full output.\n",
      "Cause: 'arguments' object has no attribute 'posonlyargs'\n",
      "To silence this warning, decorate the function with @tf.autograph.experimental.do_not_convert\n",
      "1394/1407 [============================>.] - ETA: 0s - loss: 0.3491 - accuracy: 0.8265WARNING:tensorflow:AutoGraph could not transform <function Model.make_test_function.<locals>.test_function at 0x000001D8116FF4C8> and will run it as-is.\n",
      "Please report this to the TensorFlow team. When filing the bug, set the verbosity to 10 (on Linux, `export AUTOGRAPH_VERBOSITY=10`) and attach the full output.\n",
      "Cause: 'arguments' object has no attribute 'posonlyargs'\n",
      "To silence this warning, decorate the function with @tf.autograph.experimental.do_not_convert\n",
      "WARNING: AutoGraph could not transform <function Model.make_test_function.<locals>.test_function at 0x000001D8116FF4C8> and will run it as-is.\n",
      "Please report this to the TensorFlow team. When filing the bug, set the verbosity to 10 (on Linux, `export AUTOGRAPH_VERBOSITY=10`) and attach the full output.\n",
      "Cause: 'arguments' object has no attribute 'posonlyargs'\n",
      "To silence this warning, decorate the function with @tf.autograph.experimental.do_not_convert\n",
      "1407/1407 [==============================] - 2s 848us/step - loss: 0.3474 - accuracy: 0.8274 - val_loss: 0.0449 - val_accuracy: 0.9816\n",
      "Epoch 2/15\n",
      "1407/1407 [==============================] - 1s 805us/step - loss: 0.0366 - accuracy: 0.9884 - val_loss: 0.0236 - val_accuracy: 0.9939\n",
      "Epoch 3/15\n",
      "1407/1407 [==============================] - 1s 966us/step - loss: 0.0244 - accuracy: 0.9922 - val_loss: 0.0251 - val_accuracy: 0.9889\n",
      "Epoch 4/15\n",
      "1407/1407 [==============================] - 2s 1ms/step - loss: 0.0204 - accuracy: 0.9925 - val_loss: 0.0237 - val_accuracy: 0.9879\n",
      "Epoch 5/15\n",
      "1407/1407 [==============================] - 1s 925us/step - loss: 0.0195 - accuracy: 0.9920 - val_loss: 0.0148 - val_accuracy: 0.9963\n",
      "Epoch 6/15\n",
      "1407/1407 [==============================] - 1s 816us/step - loss: 0.0179 - accuracy: 0.9924 - val_loss: 0.0146 - val_accuracy: 0.9938\n",
      "Epoch 7/15\n",
      "1407/1407 [==============================] - 2s 1ms/step - loss: 0.0171 - accuracy: 0.9924 - val_loss: 0.0228 - val_accuracy: 0.9884\n",
      "Epoch 8/15\n",
      "1407/1407 [==============================] - 1s 767us/step - loss: 0.0177 - accuracy: 0.9924 - val_loss: 0.0113 - val_accuracy: 0.9969\n",
      "Epoch 9/15\n",
      "1407/1407 [==============================] - 1s 777us/step - loss: 0.0169 - accuracy: 0.9928 - val_loss: 0.0766 - val_accuracy: 0.9726\n",
      "Epoch 10/15\n",
      "1407/1407 [==============================] - 1s 831us/step - loss: 0.0174 - accuracy: 0.9930 - val_loss: 0.0117 - val_accuracy: 0.9957\n",
      "Epoch 11/15\n",
      "1407/1407 [==============================] - 1s 795us/step - loss: 0.0150 - accuracy: 0.9941 - val_loss: 0.0166 - val_accuracy: 0.9917\n",
      "Epoch 12/15\n",
      "1407/1407 [==============================] - 1s 932us/step - loss: 0.0140 - accuracy: 0.9943 - val_loss: 0.0117 - val_accuracy: 0.9947\n",
      "Epoch 13/15\n",
      "1407/1407 [==============================] - 1s 831us/step - loss: 0.0156 - accuracy: 0.9935 - val_loss: 0.0240 - val_accuracy: 0.9887\n",
      "Epoch 14/15\n",
      "1407/1407 [==============================] - 1s 750us/step - loss: 0.0150 - accuracy: 0.9935 - val_loss: 0.0099 - val_accuracy: 0.9969\n",
      "Epoch 15/15\n",
      "1407/1407 [==============================] - 1s 737us/step - loss: 0.0151 - accuracy: 0.9934 - val_loss: 0.0145 - val_accuracy: 0.9931\n"
     ]
    }
   ],
   "source": [
    "# Trening\n",
    "history = model.fit(x_train_scaled, y_train, validation_data=(x_test_scaled, y_test), epochs=15, verbose=1)"
   ]
  },
  {
   "cell_type": "code",
   "execution_count": 29,
   "id": "d855e067",
   "metadata": {},
   "outputs": [
    {
     "data": {
      "text/plain": [
       "<matplotlib.legend.Legend at 0x1d81126d088>"
      ]
     },
     "execution_count": 29,
     "metadata": {},
     "output_type": "execute_result"
    },
    {
     "data": {
      "image/png": "[encoded data removed]",
      "text/plain": [
       "<Figure size 432x288 with 1 Axes>"
      ]
     },
     "metadata": {
      "needs_background": "light"
     },
     "output_type": "display_data"
    }
   ],
   "source": [
    "# Wykres błędów\n",
    "plt.plot(history.history['loss'])\n",
    "plt.plot(history.history['val_loss'])\n",
    "plt.title('Błąd podczas nauki i walidacji')\n",
    "plt.ylabel('Błąd')\n",
    "plt.xlabel('Eopka')\n",
    "plt.legend(['traning', 'walidacja'], loc='upper left')"
   ]
  },
  {
   "cell_type": "code",
   "execution_count": 30,
   "id": "89ced769",
   "metadata": {},
   "outputs": [],
   "source": [
    "# Dokonajmy predukcji"
   ]
  },
  {
   "cell_type": "code",
   "execution_count": 31,
   "id": "6297a279",
   "metadata": {},
   "outputs": [],
   "source": [
    "# DANE TRENINGOWE"
   ]
  },
  {
   "cell_type": "code",
   "execution_count": 32,
   "id": "1d9a0d8a",
   "metadata": {},
   "outputs": [
    {
     "name": "stdout",
     "output_type": "stream",
     "text": [
      "WARNING:tensorflow:AutoGraph could not transform <function Model.make_predict_function.<locals>.predict_function at 0x000001D812866438> and will run it as-is.\n",
      "Please report this to the TensorFlow team. When filing the bug, set the verbosity to 10 (on Linux, `export AUTOGRAPH_VERBOSITY=10`) and attach the full output.\n",
      "Cause: 'arguments' object has no attribute 'posonlyargs'\n",
      "To silence this warning, decorate the function with @tf.autograph.experimental.do_not_convert\n",
      "WARNING: AutoGraph could not transform <function Model.make_predict_function.<locals>.predict_function at 0x000001D812866438> and will run it as-is.\n",
      "Please report this to the TensorFlow team. When filing the bug, set the verbosity to 10 (on Linux, `export AUTOGRAPH_VERBOSITY=10`) and attach the full output.\n",
      "Cause: 'arguments' object has no attribute 'posonlyargs'\n",
      "To silence this warning, decorate the function with @tf.autograph.experimental.do_not_convert\n"
     ]
    }
   ],
   "source": [
    "pred_train = model.predict(x_train_scaled)\n",
    "pred_class = [round(m[0]) for m in pred_train]"
   ]
  },
  {
   "cell_type": "code",
   "execution_count": 33,
   "id": "0789e9bd",
   "metadata": {},
   "outputs": [],
   "source": [
    "from sklearn.metrics import classification_report, confusion_matrix"
   ]
  },
  {
   "cell_type": "code",
   "execution_count": 34,
   "id": "af118ce5",
   "metadata": {},
   "outputs": [],
   "source": [
    "# Macierz pomyłek"
   ]
  },
  {
   "cell_type": "code",
   "execution_count": 35,
   "id": "64352447",
   "metadata": {},
   "outputs": [],
   "source": [
    "cf_matrix_train = confusion_matrix(y_train, pred_class)"
   ]
  },
  {
   "cell_type": "code",
   "execution_count": 36,
   "id": "0607dfb4",
   "metadata": {},
   "outputs": [
    {
     "data": {
      "text/plain": [
       "0    28786\n",
       "1    16214\n",
       "Name: stabf, dtype: int64"
      ]
     },
     "execution_count": 36,
     "metadata": {},
     "output_type": "execute_result"
    }
   ],
   "source": [
    "y_train.value_counts()"
   ]
  },
  {
   "cell_type": "code",
   "execution_count": 37,
   "id": "e32d3f4a",
   "metadata": {},
   "outputs": [
    {
     "data": {
      "text/plain": [
       "array([[28529,   257],\n",
       "       [    2, 16212]], dtype=int64)"
      ]
     },
     "execution_count": 37,
     "metadata": {},
     "output_type": "execute_result"
    }
   ],
   "source": [
    "cf_matrix_train"
   ]
  },
  {
   "cell_type": "code",
   "execution_count": 38,
   "id": "51c93f24",
   "metadata": {},
   "outputs": [],
   "source": [
    "tn_train, fp_train, fn_train, tp_train = cf_matrix_train.ravel()"
   ]
  },
  {
   "cell_type": "code",
   "execution_count": 39,
   "id": "a042635c",
   "metadata": {},
   "outputs": [
    {
     "data": {
      "text/plain": [
       "28529"
      ]
     },
     "execution_count": 39,
     "metadata": {},
     "output_type": "execute_result"
    }
   ],
   "source": [
    "tn_train"
   ]
  },
  {
   "cell_type": "code",
   "execution_count": 40,
   "id": "470d5e7f",
   "metadata": {},
   "outputs": [
    {
     "data": {
      "text/plain": [
       "257"
      ]
     },
     "execution_count": 40,
     "metadata": {},
     "output_type": "execute_result"
    }
   ],
   "source": [
    "fp_train"
   ]
  },
  {
   "cell_type": "code",
   "execution_count": 41,
   "id": "a6962b64",
   "metadata": {
    "scrolled": true
   },
   "outputs": [
    {
     "data": {
      "text/plain": [
       "2"
      ]
     },
     "execution_count": 41,
     "metadata": {},
     "output_type": "execute_result"
    }
   ],
   "source": [
    "fn_train"
   ]
  },
  {
   "cell_type": "code",
   "execution_count": 42,
   "id": "7cc74cd4",
   "metadata": {},
   "outputs": [
    {
     "data": {
      "text/plain": [
       "16212"
      ]
     },
     "execution_count": 42,
     "metadata": {},
     "output_type": "execute_result"
    }
   ],
   "source": [
    "tp_train"
   ]
  },
  {
   "cell_type": "code",
   "execution_count": 43,
   "id": "e122c968",
   "metadata": {},
   "outputs": [],
   "source": [
    "# Raport z klasyfikacji"
   ]
  },
  {
   "cell_type": "code",
   "execution_count": 44,
   "id": "73a108dd",
   "metadata": {},
   "outputs": [
    {
     "name": "stdout",
     "output_type": "stream",
     "text": [
      "              precision    recall  f1-score   support\n",
      "\n",
      "           0       1.00      0.99      1.00     28786\n",
      "           1       0.98      1.00      0.99     16214\n",
      "\n",
      "    accuracy                           0.99     45000\n",
      "   macro avg       0.99      1.00      0.99     45000\n",
      "weighted avg       0.99      0.99      0.99     45000\n",
      "\n"
     ]
    }
   ],
   "source": [
    "print(classification_report(y_train, pred_class))"
   ]
  },
  {
   "cell_type": "code",
   "execution_count": 45,
   "id": "77749880",
   "metadata": {},
   "outputs": [],
   "source": [
    "# DANE TESTOWE\n",
    "pred_test = model.predict(x_test_scaled)\n",
    "pred_class_test = [round(m[0]) for m in pred_test]"
   ]
  },
  {
   "cell_type": "code",
   "execution_count": 46,
   "id": "6c51fbe5",
   "metadata": {},
   "outputs": [],
   "source": [
    "cf_matrix_test = confusion_matrix(y_test, pred_class_test)"
   ]
  },
  {
   "cell_type": "code",
   "execution_count": 47,
   "id": "790661a9",
   "metadata": {},
   "outputs": [
    {
     "data": {
      "text/plain": [
       "0    9494\n",
       "1    5506\n",
       "Name: stabf, dtype: int64"
      ]
     },
     "execution_count": 47,
     "metadata": {},
     "output_type": "execute_result"
    }
   ],
   "source": [
    "y_test.value_counts()"
   ]
  },
  {
   "cell_type": "code",
   "execution_count": 48,
   "id": "f81ae98d",
   "metadata": {},
   "outputs": [
    {
     "data": {
      "text/plain": [
       "array([[9390,  104],\n",
       "       [   0, 5506]], dtype=int64)"
      ]
     },
     "execution_count": 48,
     "metadata": {},
     "output_type": "execute_result"
    }
   ],
   "source": [
    "cf_matrix_test"
   ]
  },
  {
   "cell_type": "code",
   "execution_count": 49,
   "id": "5b0fb053",
   "metadata": {},
   "outputs": [],
   "source": [
    "tn_test, fp_test, fn_test, tp_test = cf_matrix_test.ravel()"
   ]
  },
  {
   "cell_type": "code",
   "execution_count": 50,
   "id": "ea6862a3",
   "metadata": {},
   "outputs": [
    {
     "data": {
      "text/plain": [
       "9390"
      ]
     },
     "execution_count": 50,
     "metadata": {},
     "output_type": "execute_result"
    }
   ],
   "source": [
    "tn_test"
   ]
  },
  {
   "cell_type": "code",
   "execution_count": 51,
   "id": "9499715a",
   "metadata": {},
   "outputs": [
    {
     "data": {
      "text/plain": [
       "104"
      ]
     },
     "execution_count": 51,
     "metadata": {},
     "output_type": "execute_result"
    }
   ],
   "source": [
    "fp_test"
   ]
  },
  {
   "cell_type": "code",
   "execution_count": 52,
   "id": "5005b8a2",
   "metadata": {},
   "outputs": [
    {
     "data": {
      "text/plain": [
       "0"
      ]
     },
     "execution_count": 52,
     "metadata": {},
     "output_type": "execute_result"
    }
   ],
   "source": [
    "fn_test"
   ]
  },
  {
   "cell_type": "code",
   "execution_count": 53,
   "id": "efffa637",
   "metadata": {},
   "outputs": [
    {
     "data": {
      "text/plain": [
       "5506"
      ]
     },
     "execution_count": 53,
     "metadata": {},
     "output_type": "execute_result"
    }
   ],
   "source": [
    "tp_test"
   ]
  },
  {
   "cell_type": "code",
   "execution_count": 54,
   "id": "af08d34a",
   "metadata": {},
   "outputs": [],
   "source": [
    "# Raport z klasyfikacji"
   ]
  },
  {
   "cell_type": "code",
   "execution_count": 55,
   "id": "b8fc3d90",
   "metadata": {},
   "outputs": [
    {
     "name": "stdout",
     "output_type": "stream",
     "text": [
      "              precision    recall  f1-score   support\n",
      "\n",
      "           0       1.00      0.99      0.99      9494\n",
      "           1       0.98      1.00      0.99      5506\n",
      "\n",
      "    accuracy                           0.99     15000\n",
      "   macro avg       0.99      0.99      0.99     15000\n",
      "weighted avg       0.99      0.99      0.99     15000\n",
      "\n"
     ]
    }
   ],
   "source": [
    "print(classification_report(y_test, pred_class_test))"
   ]
  }
 ],
 "metadata": {
  "kernelspec": {
   "display_name": "Python 3 (ipykernel)",
   "language": "python",
   "name": "python3"
  },
  "language_info": {
   "codemirror_mode": {
    "name": "ipython",
    "version": 3
   },
   "file_extension": ".py",
   "mimetype": "text/x-python",
   "name": "python",
   "nbconvert_exporter": "python",
   "pygments_lexer": "ipython3",
   "version": "3.7.4"
  }
 },
 "nbformat": 4,
 "nbformat_minor": 5
}
